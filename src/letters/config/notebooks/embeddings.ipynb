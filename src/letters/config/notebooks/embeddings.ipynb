{
 "cells": [
  {
   "cell_type": "markdown",
   "id": "734e2998-999a-42a3-bacd-d8bb30ef11ab",
   "metadata": {},
   "source": [
    "# Run BGE Embedding"
   ]
  },
  {
   "cell_type": "code",
   "execution_count": 1,
   "id": "0d72cb08-3219-467b-8853-a76b7623856d",
   "metadata": {},
   "outputs": [
    {
     "name": "stderr",
     "output_type": "stream",
     "text": [
      "/home/shaun/projects/python/letters-api/.venv/lib/python3.10/site-packages/tqdm/auto.py:21: TqdmWarning: IProgress not found. Please update jupyter and ipywidgets. See https://ipywidgets.readthedocs.io/en/stable/user_install.html\n",
      "  from .autonotebook import tqdm as notebook_tqdm\n",
      ".gitattributes: 100%|████████████████████████████████████████████████████████████████████████████████████████████████████████████████████████████████████████████████████████████████████████████████████████████████████████████████████████████| 1.52k/1.52k [00:00<00:00, 6.55MB/s]\n",
      "1_Pooling/config.json: 100%|██████████████████████████████████████████████████████████████████████████████████████████████████████████████████████████████████████████████████████████████████████████████████████████████████████████████████████████| 190/190 [00:00<00:00, 732kB/s]\n",
      "README.md: 100%|█████████████████████████████████████████████████████████████████████████████████████████████████████████████████████████████████████████████████████████████████████████████████████████████████████████████████████████████████| 90.8k/90.8k [00:00<00:00, 56.7MB/s]\n",
      "config.json: 100%|███████████████████████████████████████████████████████████████████████████████████████████████████████████████████████████████████████████████████████████████████████████████████████████████████████████████████████████████████| 684/684 [00:00<00:00, 4.15MB/s]\n",
      "config_sentence_transformers.json: 100%|██████████████████████████████████████████████████████████████████████████████████████████████████████████████████████████████████████████████████████████████████████████████████████████████████████████████| 124/124 [00:00<00:00, 658kB/s]\n",
      "model.safetensors: 100%|███████████████████████████████████████████████████████████████████████████████████████████████████████████████████████████████████████████████████████████████████████████████████████████████████████████████████████████| 133M/133M [00:05<00:00, 23.6MB/s]\n",
      "pytorch_model.bin: 100%|███████████████████████████████████████████████████████████████████████████████████████████████████████████████████████████████████████████████████████████████████████████████████████████████████████████████████████████| 134M/134M [00:05<00:00, 22.6MB/s]\n",
      "sentence_bert_config.json: 100%|████████████████████████████████████████████████████████████████████████████████████████████████████████████████████████████████████████████████████████████████████████████████████████████████████████████████████| 52.0/52.0 [00:00<00:00, 337kB/s]\n",
      "special_tokens_map.json: 100%|████████████████████████████████████████████████████████████████████████████████████████████████████████████████████████████████████████████████████████████████████████████████████████████████████████████████████████| 125/125 [00:00<00:00, 946kB/s]\n",
      "tokenizer.json: 100%|██████████████████████████████████████████████████████████████████████████████████████████████████████████████████████████████████████████████████████████████████████████████████████████████████████████████████████████████| 711k/711k [00:00<00:00, 7.64MB/s]\n",
      "tokenizer_config.json: 100%|██████████████████████████████████████████████████████████████████████████████████████████████████████████████████████████████████████████████████████████████████████████████████████████████████████████████████████████| 366/366 [00:00<00:00, 373kB/s]\n",
      "vocab.txt: 100%|███████████████████████████████████████████████████████████████████████████████████████████████████████████████████████████████████████████████████████████████████████████████████████████████████████████████████████████████████| 232k/232k [00:00<00:00, 3.37MB/s]\n",
      "modules.json: 100%|██████████████████████████████████████████████████████████████████████████████████████████████████████████████████████████████████████████████████████████████████████████████████████████████████████████████████████████████████| 349/349 [00:00<00:00, 1.98MB/s]\n"
     ]
    }
   ],
   "source": [
    "from langchain_community.embeddings import HuggingFaceBgeEmbeddings\n",
    "\n",
    "model_name = \"BAAI/bge-small-en\"\n",
    "model_kwargs = {\"device\": \"cpu\"}\n",
    "encode_kwargs = {\"normalize_embeddings\": True}\n",
    "hf = HuggingFaceBgeEmbeddings(\n",
    "    model_name=model_name, model_kwargs=model_kwargs, encode_kwargs=encode_kwargs\n",
    ")"
   ]
  },
  {
   "cell_type": "code",
   "execution_count": 10,
   "id": "d4f40f5c-44cf-4b40-a558-c6afe6f6a997",
   "metadata": {},
   "outputs": [],
   "source": []
  },
  {
   "cell_type": "code",
   "execution_count": 21,
   "id": "48cdfdba-87b9-482d-be16-cb927410bda0",
   "metadata": {},
   "outputs": [
    {
     "name": "stdout",
     "output_type": "stream",
     "text": [
      "0.5636750388716978 0.6053573342095174 0.5711342412846807\n"
     ]
    }
   ],
   "source": [
    "from scipy.spatial.distance import cosine, euclidean\n",
    "\n",
    "embedding1 = hf.embed_query(\"like\")\n",
    "embedding2 = hf.embed_query(\"data\")\n",
    "embedding3 = hf.embed_query(\"like lake late date data\")\n",
    "\n",
    "distance1 = euclidean(embedding1, embedding2)\n",
    "distance2 = euclidean(embedding1, embedding3)\n",
    "distance3 = euclidean(embedding2, embedding3)\n",
    "print(distance1, distance2, distance3)"
   ]
  },
  {
   "cell_type": "code",
   "execution_count": 23,
   "id": "41fbcfe0-7112-4fa7-a03f-1790e47fd54e",
   "metadata": {},
   "outputs": [
    {
     "name": "stdout",
     "output_type": "stream",
     "text": [
      "0.5227701743688413 0.5593403705730805 0.5326714983381003\n"
     ]
    }
   ],
   "source": [
    "embedding1 = hf.embed_query(\"home\")\n",
    "embedding2 = hf.embed_query(\"base\")\n",
    "embedding3 = hf.embed_query(\"home,come,came,case,base\")\n",
    "\n",
    "distance1 = euclidean(embedding1, embedding2)\n",
    "distance2 = euclidean(embedding1, embedding3)\n",
    "distance3 = euclidean(embedding2, embedding3)\n",
    "print(distance1, distance2, distance3)\n"
   ]
  },
  {
   "cell_type": "code",
   "execution_count": 24,
   "id": "fceb1c33-3b73-4e11-8b8c-dbe1b4cab242",
   "metadata": {},
   "outputs": [
    {
     "name": "stdout",
     "output_type": "stream",
     "text": [
      "0.5047509747154099 0.47853511057054154 0.5609404945648608\n"
     ]
    }
   ],
   "source": [
    "\n",
    "embedding1 = hf.embed_query(\"jockey\")\n",
    "embedding2 = hf.embed_query(\"monkey\")\n",
    "embedding3 = hf.embed_query(\"jockey hockey hickey dickey dinkey donkey monkey\")\n",
    "\n",
    "distance1 = euclidean(embedding1, embedding2)\n",
    "distance2 = euclidean(embedding1, embedding3)\n",
    "distance3 = euclidean(embedding2, embedding3)\n",
    "print(distance1, distance2, distance3)\n"
   ]
  },
  {
   "cell_type": "code",
   "execution_count": 25,
   "id": "7aaf11bf-69f1-40f1-a025-a2fbe1909836",
   "metadata": {},
   "outputs": [
    {
     "name": "stdout",
     "output_type": "stream",
     "text": [
      "0.5760812916560996 0.47619333236723604 0.5684669364000382\n"
     ]
    }
   ],
   "source": [
    "embedding1 = hf.embed_query(\"pecker\")\n",
    "embedding2 = hf.embed_query(\"monkey\")\n",
    "embedding3 = hf.embed_query(\"monkey donkey dinkey dickey dicker decker pecker\")\n",
    "\n",
    "distance1 = euclidean(embedding1, embedding2)\n",
    "distance2 = euclidean(embedding1, embedding3)\n",
    "distance3 = euclidean(embedding2, embedding3)\n",
    "print(distance1, distance2, distance3)"
   ]
  },
  {
   "cell_type": "code",
   "execution_count": null,
   "id": "dcac851d-8b4a-499a-9462-265f1862de39",
   "metadata": {},
   "outputs": [],
   "source": []
  },
  {
   "cell_type": "code",
   "execution_count": 27,
   "id": "76e76b08-3a7f-4c56-bf1b-04c2edb0ffc3",
   "metadata": {},
   "outputs": [
    {
     "name": "stdout",
     "output_type": "stream",
     "text": [
      "0.5929041513870013 0.47246262709407144 0.5655282476266047\n"
     ]
    }
   ],
   "source": [
    "embedding1 = hf.embed_query(\"rickey\")\n",
    "embedding2 = hf.embed_query(\"monkey\")\n",
    "embedding3 = hf.embed_query(\"rickey dickey dinkey donkey monkey\")\n",
    "\n",
    "distance1 = euclidean(embedding1, embedding2)\n",
    "distance2 = euclidean(embedding1, embedding3)\n",
    "distance3 = euclidean(embedding2, embedding3)\n",
    "print(distance1, distance2, distance3)"
   ]
  },
  {
   "cell_type": "code",
   "execution_count": null,
   "id": "bfed6e40-d575-4600-9254-cdbe74be0e93",
   "metadata": {},
   "outputs": [],
   "source": [
    "monkey,donkey,dinkey,dickey,dicker,licker,linker"
   ]
  }
 ],
 "metadata": {
  "kernelspec": {
   "display_name": "Python 3 (ipykernel)",
   "language": "python",
   "name": "python3"
  },
  "language_info": {
   "codemirror_mode": {
    "name": "ipython",
    "version": 3
   },
   "file_extension": ".py",
   "mimetype": "text/x-python",
   "name": "python",
   "nbconvert_exporter": "python",
   "pygments_lexer": "ipython3",
   "version": "3.10.12"
  }
 },
 "nbformat": 4,
 "nbformat_minor": 5
}
