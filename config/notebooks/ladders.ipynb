{
 "cells": [
  {
   "cell_type": "code",
   "execution_count": 25,
   "metadata": {},
   "outputs": [],
   "source": [
    "\n",
    "def get_ladder_json(word_length):\n",
    "    assert word_length >= 3 and word_length <=6\n",
    "\n",
    "    import requests\n",
    "    import json\n",
    "    r = requests.get(f'https://raw.githubusercontent.com/shaunhegarty/word-ladder/master/wordladder/resources/ladder-common-{word_length}.json')\n",
    "    data = json.loads(r.content.decode('utf-8'))\n",
    "    return data\n",
    "\n",
    "data = get_ladder_json(3)"
   ]
  },
  {
   "cell_type": "code",
   "execution_count": null,
   "metadata": {},
   "outputs": [],
   "source": [
    "list(data.keys())[:20]"
   ]
  },
  {
   "cell_type": "code",
   "execution_count": null,
   "metadata": {},
   "outputs": [],
   "source": [
    "x = sorted(list(data.keys()), key=lambda x: len(data[x][0]), reverse=True)\n",
    "x[:20]"
   ]
  },
  {
   "cell_type": "code",
   "execution_count": null,
   "metadata": {},
   "outputs": [],
   "source": [
    "[','.join(l) for l in data.get('award-style')]"
   ]
  },
  {
   "cell_type": "code",
   "execution_count": null,
   "metadata": {},
   "outputs": [],
   "source": [
    "for pair, ladder in [(pair, ladder) for pair, ladder in data.items()][:1]:\n",
    "    print(pair, ladder[0])\n",
    "    "
   ]
  },
  {
   "cell_type": "code",
   "execution_count": null,
   "metadata": {},
   "outputs": [],
   "source": [
    "import sys\n",
    "sys.path.append('/workspace/')\n",
    "\n",
    "from sqlalchemy.orm import Session\n",
    "\n",
    "from anagrammer import models\n",
    "from anagrammer.database import engine\n",
    "\n",
    "models.Base.metadata.create_all(bind=engine)"
   ]
  },
  {
   "cell_type": "code",
   "execution_count": null,
   "metadata": {},
   "outputs": [],
   "source": [
    "with Session(engine) as session:\n",
    "    results = session.query(models.Dictionary).filter(models.Dictionary.frequency > 50000).all()\n",
    "    print(results)"
   ]
  },
  {
   "cell_type": "code",
   "execution_count": 16,
   "metadata": {},
   "outputs": [],
   "source": [
    "from sqlalchemy import func\n",
    "\n",
    "with Session(engine) as session:\n",
    "    results = session.query(models.Dictionary, \n",
    "                            func.rank().over(order_by=models.Dictionary.frequency.desc())\n",
    "                            ).filter(models.Dictionary.dictionary == 'common').all()\n",
    "    score = {word.word: rank for word, rank in results}"
   ]
  },
  {
   "cell_type": "code",
   "execution_count": null,
   "metadata": {},
   "outputs": [],
   "source": [
    "from sqlalchemy.dialects.postgresql import insert\n",
    "\n",
    "with Session(engine) as session:\n",
    "    # Populate Word Score\n",
    "    values = []\n",
    "    for word, word_score in score.items():\n",
    "        values.append({'word': word, 'dictionary': 'common', 'score': word_score})\n",
    "    statement = (\n",
    "        insert(models.WordScore).values(values).on_conflict_do_nothing()\n",
    "    )\n",
    "    session.execute(statement)\n",
    "    session.commit()"
   ]
  },
  {
   "cell_type": "code",
   "execution_count": 9,
   "metadata": {},
   "outputs": [],
   "source": [
    "def sort_word_pair(pair):\n",
    "    return '-'.join(sorted(pair.split('-')))\n",
    "unique_ladder_keys = {sort_word_pair(pair) for pair in data.keys()}"
   ]
  },
  {
   "cell_type": "code",
   "execution_count": 18,
   "metadata": {},
   "outputs": [],
   "source": [
    "def ladder_difficulty(ladder):\n",
    "    word_score = 0\n",
    "    for word in ladder:\n",
    "        word_score += score.get(word)\n",
    "    return word_score"
   ]
  },
  {
   "cell_type": "code",
   "execution_count": 26,
   "metadata": {},
   "outputs": [
    {
     "name": "stdout",
     "output_type": "stream",
     "text": [
      "3637 ladder keys\n",
      "Updating Database with 18078 records\n",
      "3015 ladder keys\n",
      "Updating Database with 23748 records\n",
      "2166 ladder keys\n",
      "Updating Database with 12056 records\n",
      "481 ladder keys\n",
      "Updating Database with 5665 records\n"
     ]
    }
   ],
   "source": [
    "from sqlalchemy.dialects.postgresql import insert\n",
    "\n",
    "for word_length in range(3, 7):\n",
    "    data = get_ladder_json(word_length=word_length)\n",
    "    unique_ladder_keys = {sort_word_pair(pair) for pair in data.keys()}\n",
    "\n",
    "    print(f'{len(unique_ladder_keys)} ladder keys')\n",
    "    values = []\n",
    "    for key in unique_ladder_keys:\n",
    "        ladder_list = data.get(key)\n",
    "        for index, ladder in enumerate(ladder_list):\n",
    "            values.append({'pair': key,\n",
    "                'dictionary': 'common',\n",
    "                'chain': ','.join(ladder),\n",
    "                'difficulty': ladder_difficulty(ladder),\n",
    "                'variations': len(ladder_list),\n",
    "                'variant': index, })\n",
    "    print(f'Updating Database with {len(values)} records')\n",
    "    with Session(engine) as session:\n",
    "        statement = (\n",
    "            insert(models.Ladder).values(values).on_conflict_do_nothing()\n",
    "        )\n",
    "        session.execute(statement)\n",
    "        session.commit()"
   ]
  }
 ],
 "metadata": {
  "interpreter": {
   "hash": "949777d72b0d2535278d3dc13498b2535136f6dfe0678499012e853ee9abcab1"
  },
  "kernelspec": {
   "display_name": "Python 3.10.2 64-bit",
   "language": "python",
   "name": "python3"
  },
  "language_info": {
   "codemirror_mode": {
    "name": "ipython",
    "version": 3
   },
   "file_extension": ".py",
   "mimetype": "text/x-python",
   "name": "python",
   "nbconvert_exporter": "python",
   "pygments_lexer": "ipython3",
   "version": "3.10.2"
  },
  "orig_nbformat": 4
 },
 "nbformat": 4,
 "nbformat_minor": 2
}
